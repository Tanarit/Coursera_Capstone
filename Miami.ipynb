{
 "cells": [
  {
   "cell_type": "markdown",
   "metadata": {},
   "source": [
    "# Location for opening a Thai restaurant in Miami analysis"
   ]
  },
  {
   "cell_type": "markdown",
   "metadata": {},
   "source": [
    "## A introduction"
   ]
  },
  {
   "cell_type": "markdown",
   "metadata": {},
   "source": [
    "A1. Description and background:\n",
    "\n",
    "The background of the analysis is really simple my sister which is Thai now she is working in a restaurant in Miami, Florida. In the case that she wants to start her own restaurant she might want to know which location is the best.\n",
    "\n",
    "As we all know that Miami is a big city and is one of the most popular tourist destinations in the world. To invest in opening a restaurant ,it would be very high competitive and require high investment. This analysis would help to choose a location that make the restaurant to be successful."
   ]
  },
  {
   "cell_type": "markdown",
   "metadata": {},
   "source": [
    "\n",
    "\n",
    "A2. Data Description\n",
    "\n",
    "The data that will be used in this analysis:\n",
    " - List of neighborhoods in Miami from wikipedia\n",
    " - data of restaurant in Miami from Foursquare\n",
    " "
   ]
  },
  {
   "cell_type": "code",
   "execution_count": null,
   "metadata": {},
   "outputs": [],
   "source": []
  }
 ],
 "metadata": {
  "kernelspec": {
   "display_name": "Python 3",
   "language": "python",
   "name": "python3"
  },
  "language_info": {
   "codemirror_mode": {
    "name": "ipython",
    "version": 3
   },
   "file_extension": ".py",
   "mimetype": "text/x-python",
   "name": "python",
   "nbconvert_exporter": "python",
   "pygments_lexer": "ipython3",
   "version": "3.6.8"
  }
 },
 "nbformat": 4,
 "nbformat_minor": 2
}
